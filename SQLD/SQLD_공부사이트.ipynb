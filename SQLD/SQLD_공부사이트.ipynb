{
 "cells": [
  {
   "cell_type": "markdown",
   "metadata": {},
   "source": [
    "---\n",
    "# SQLD 공부 사이트\n",
    "---\n",
    "- https://yunamom.tistory.com/355\n",
    "- 기출문제가 많아서 좋음\n",
    "- https://sancheck-developer.tistory.com/71\n",
    "- 처음부터 끝까지 이론이 잘 나뉘어져 있음"
   ]
  }
 ],
 "metadata": {
  "language_info": {
   "name": "python"
  }
 },
 "nbformat": 4,
 "nbformat_minor": 2
}
